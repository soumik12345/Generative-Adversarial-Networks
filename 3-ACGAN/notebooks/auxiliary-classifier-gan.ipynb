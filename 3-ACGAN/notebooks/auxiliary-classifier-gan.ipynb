{
 "cells": [
  {
   "cell_type": "code",
   "execution_count": 1,
   "metadata": {
    "_cell_guid": "b1076dfc-b9ad-4769-8c92-a6c4dae69d19",
    "_uuid": "8f2839f25d086af736a60e9eeb907d3b93b6e0e5"
   },
   "outputs": [
    {
     "name": "stderr",
     "output_type": "stream",
     "text": [
      "Using TensorFlow backend.\n"
     ]
    }
   ],
   "source": [
    "import warnings\n",
    "warnings.filterwarnings('ignore')\n",
    "import numpy as np\n",
    "import matplotlib.pyplot as plt\n",
    "from keras.datasets import mnist\n",
    "from keras.models import Sequential, Model\n",
    "from keras.layers import Input, Dense, Embedding, LeakyReLU, BatchNormalization, multiply\n",
    "from keras.layers import Conv2D, UpSampling2D, Reshape, Flatten, Dropout, ZeroPadding2D\n",
    "from keras.optimizers import Adam\n",
    "from keras.initializers import RandomNormal\n",
    "from keras import backend as K\n",
    "from keras.utils.vis_utils import model_to_dot\n",
    "from IPython.display import SVG\n",
    "from tqdm import tqdm_notebook"
   ]
  },
  {
   "cell_type": "code",
   "execution_count": 2,
   "metadata": {
    "_cell_guid": "79c7e3d0-c299-4dcb-8224-4455121ee9b0",
    "_uuid": "d629ff2d2480ee46fbb7e2d37f6b5fab8052498a"
   },
   "outputs": [],
   "source": [
    "IMAGE_WIDTH = 28\n",
    "IMAGE_HEIGHT = 28\n",
    "IMAGE_CHANNELS = 1\n",
    "BATCH_SIZE = 64\n",
    "LATENT_DIMENSION = 100\n",
    "IMAGE_SHAPE = (IMAGE_WIDTH, IMAGE_HEIGHT, IMAGE_CHANNELS)\n",
    "NUM_CLASSES = 10\n",
    "EPOCHS = 30000"
   ]
  },
  {
   "cell_type": "code",
   "execution_count": 3,
   "metadata": {},
   "outputs": [],
   "source": [
    "def load_data():\n",
    "    (x_train, y_train), (_, _) = mnist.load_data()\n",
    "    x_train = x_train / 127.5 - 1.\n",
    "    x_train = np.expand_dims(x_train, axis = 3)\n",
    "    y_train = y_train.reshape(-1, 1)\n",
    "    return x_train, y_train"
   ]
  },
  {
   "cell_type": "code",
   "execution_count": 4,
   "metadata": {},
   "outputs": [
    {
     "name": "stdout",
     "output_type": "stream",
     "text": [
      "Downloading data from https://s3.amazonaws.com/img-datasets/mnist.npz\n",
      "11493376/11490434 [==============================] - 1s 0us/step\n"
     ]
    },
    {
     "data": {
      "text/plain": [
       "((60000, 28, 28, 1), (60000, 1))"
      ]
     },
     "execution_count": 4,
     "metadata": {},
     "output_type": "execute_result"
    }
   ],
   "source": [
    "x_train, y_train = load_data()\n",
    "x_train.shape, y_train.shape"
   ]
  },
  {
   "cell_type": "code",
   "execution_count": 5,
   "metadata": {},
   "outputs": [],
   "source": [
    "def build_generator():\n",
    "    model = Sequential([\n",
    "        Dense(128 * 7 * 7, input_dim = LATENT_DIMENSION, activation = 'relu'),\n",
    "        Reshape((7, 7, 128)),\n",
    "        BatchNormalization(momentum = 0.8),\n",
    "        UpSampling2D(),\n",
    "        Conv2D(128, kernel_size = 3, padding = \"same\", activation = 'relu'),\n",
    "        BatchNormalization(momentum = 0.8),\n",
    "        UpSampling2D(),\n",
    "        Conv2D(64, kernel_size = 3, padding = \"same\", activation = 'relu'),\n",
    "        BatchNormalization(momentum = 0.8),\n",
    "        Conv2D(1, kernel_size = 3, padding = \"same\", activation = 'tanh'),\n",
    "    ], name = 'Generator_Sequential')\n",
    "    \n",
    "    noise = Input(shape = (LATENT_DIMENSION, ))\n",
    "    label = Input(shape = (1, ))\n",
    "    label_embedding = Embedding(NUM_CLASSES, LATENT_DIMENSION)(label)\n",
    "    label_embedding = Flatten()(label_embedding)\n",
    "    model_input = multiply([noise, label_embedding])\n",
    "    image = model(model_input)\n",
    "    generator = Model([noise, label], image, name = 'Generator')\n",
    "    return generator"
   ]
  },
  {
   "cell_type": "code",
   "execution_count": 6,
   "metadata": {},
   "outputs": [],
   "source": [
    "def build_discriminator():\n",
    "    model = Sequential([\n",
    "        Conv2D(16, kernel_size = 3, strides = 2, input_shape = IMAGE_SHAPE, padding = \"same\"),\n",
    "        LeakyReLU(alpha = 0.2),\n",
    "        Dropout(0.25),\n",
    "        Conv2D(32, kernel_size = 3, strides = 2, padding = \"same\"),\n",
    "        ZeroPadding2D(padding = ((0, 1), (0, 1))),\n",
    "        LeakyReLU(alpha = 0.2),\n",
    "        Dropout(0.25),\n",
    "        BatchNormalization(momentum = 0.8),\n",
    "        Conv2D(64, kernel_size = 3, strides = 2, padding = \"same\"),\n",
    "        ZeroPadding2D(padding = ((0, 1), (0, 1))),\n",
    "        LeakyReLU(alpha = 0.2),\n",
    "        Dropout(0.25),\n",
    "        BatchNormalization(momentum = 0.8),\n",
    "        Conv2D(128, kernel_size = 3, strides = 2, padding = \"same\"),\n",
    "        LeakyReLU(alpha = 0.2),\n",
    "        Dropout(0.25),\n",
    "        Flatten()\n",
    "    ], name = 'Discriminator_Sequential')\n",
    "    \n",
    "    image = Input(shape = IMAGE_SHAPE)\n",
    "    features = model(image)\n",
    "    validity = Dense(1, activation = 'sigmoid')(features)\n",
    "    label = Dense(NUM_CLASSES, activation = 'softmax')(features)\n",
    "    \n",
    "    discriminator = Model(image, [validity, label], name = 'Discriminator')\n",
    "    return discriminator"
   ]
  },
  {
   "cell_type": "code",
   "execution_count": 7,
   "metadata": {},
   "outputs": [
    {
     "name": "stdout",
     "output_type": "stream",
     "text": [
      "WARNING:tensorflow:From /opt/conda/lib/python3.6/site-packages/tensorflow/python/framework/op_def_library.py:263: colocate_with (from tensorflow.python.framework.ops) is deprecated and will be removed in a future version.\n",
      "Instructions for updating:\n",
      "Colocations handled automatically by placer.\n",
      "WARNING:tensorflow:From /opt/conda/lib/python3.6/site-packages/keras/backend/tensorflow_backend.py:3445: calling dropout (from tensorflow.python.ops.nn_ops) with keep_prob is deprecated and will be removed in a future version.\n",
      "Instructions for updating:\n",
      "Please use `rate` instead of `keep_prob`. Rate should be set to `rate = 1 - keep_prob`.\n",
      "__________________________________________________________________________________________________\n",
      "Layer (type)                    Output Shape         Param #     Connected to                     \n",
      "==================================================================================================\n",
      "input_1 (InputLayer)            (None, 28, 28, 1)    0                                            \n",
      "__________________________________________________________________________________________________\n",
      "Discriminator_Sequential (Seque (None, 1152)         97536       input_1[0][0]                    \n",
      "__________________________________________________________________________________________________\n",
      "dense_1 (Dense)                 (None, 1)            1153        Discriminator_Sequential[1][0]   \n",
      "__________________________________________________________________________________________________\n",
      "dense_2 (Dense)                 (None, 10)           11530       Discriminator_Sequential[1][0]   \n",
      "==================================================================================================\n",
      "Total params: 110,219\n",
      "Trainable params: 110,027\n",
      "Non-trainable params: 192\n",
      "__________________________________________________________________________________________________\n"
     ]
    },
    {
     "data": {
      "image/svg+xml": [
       "<svg height=\"221pt\" viewBox=\"0.00 0.00 518.00 221.00\" width=\"518pt\" xmlns=\"http://www.w3.org/2000/svg\" xmlns:xlink=\"http://www.w3.org/1999/xlink\">\n",
       "<g class=\"graph\" id=\"graph0\" transform=\"scale(1 1) rotate(0) translate(4 217)\">\n",
       "<title>G</title>\n",
       "<polygon fill=\"white\" points=\"-4,4 -4,-217 514,-217 514,4 -4,4\" stroke=\"none\"/>\n",
       "<!-- 139693979372512 -->\n",
       "<g class=\"node\" id=\"node1\"><title>139693979372512</title>\n",
       "<polygon fill=\"none\" points=\"109.5,-166.5 109.5,-212.5 400.5,-212.5 400.5,-166.5 109.5,-166.5\" stroke=\"black\"/>\n",
       "<text font-family=\"Times,serif\" font-size=\"14.00\" text-anchor=\"middle\" x=\"172\" y=\"-185.8\">input_1: InputLayer</text>\n",
       "<polyline fill=\"none\" points=\"234.5,-166.5 234.5,-212.5 \" stroke=\"black\"/>\n",
       "<text font-family=\"Times,serif\" font-size=\"14.00\" text-anchor=\"middle\" x=\"262\" y=\"-197.3\">input:</text>\n",
       "<polyline fill=\"none\" points=\"234.5,-189.5 289.5,-189.5 \" stroke=\"black\"/>\n",
       "<text font-family=\"Times,serif\" font-size=\"14.00\" text-anchor=\"middle\" x=\"262\" y=\"-174.3\">output:</text>\n",
       "<polyline fill=\"none\" points=\"289.5,-166.5 289.5,-212.5 \" stroke=\"black\"/>\n",
       "<text font-family=\"Times,serif\" font-size=\"14.00\" text-anchor=\"middle\" x=\"345\" y=\"-197.3\">(None, 28, 28, 1)</text>\n",
       "<polyline fill=\"none\" points=\"289.5,-189.5 400.5,-189.5 \" stroke=\"black\"/>\n",
       "<text font-family=\"Times,serif\" font-size=\"14.00\" text-anchor=\"middle\" x=\"345\" y=\"-174.3\">(None, 28, 28, 1)</text>\n",
       "</g>\n",
       "<!-- 139693979372456 -->\n",
       "<g class=\"node\" id=\"node2\"><title>139693979372456</title>\n",
       "<polygon fill=\"none\" points=\"61.5,-83.5 61.5,-129.5 448.5,-129.5 448.5,-83.5 61.5,-83.5\" stroke=\"black\"/>\n",
       "<text font-family=\"Times,serif\" font-size=\"14.00\" text-anchor=\"middle\" x=\"172\" y=\"-102.8\">Discriminator_Sequential: Sequential</text>\n",
       "<polyline fill=\"none\" points=\"282.5,-83.5 282.5,-129.5 \" stroke=\"black\"/>\n",
       "<text font-family=\"Times,serif\" font-size=\"14.00\" text-anchor=\"middle\" x=\"310\" y=\"-114.3\">input:</text>\n",
       "<polyline fill=\"none\" points=\"282.5,-106.5 337.5,-106.5 \" stroke=\"black\"/>\n",
       "<text font-family=\"Times,serif\" font-size=\"14.00\" text-anchor=\"middle\" x=\"310\" y=\"-91.3\">output:</text>\n",
       "<polyline fill=\"none\" points=\"337.5,-83.5 337.5,-129.5 \" stroke=\"black\"/>\n",
       "<text font-family=\"Times,serif\" font-size=\"14.00\" text-anchor=\"middle\" x=\"393\" y=\"-114.3\">(None, 28, 28, 1)</text>\n",
       "<polyline fill=\"none\" points=\"337.5,-106.5 448.5,-106.5 \" stroke=\"black\"/>\n",
       "<text font-family=\"Times,serif\" font-size=\"14.00\" text-anchor=\"middle\" x=\"393\" y=\"-91.3\">(None, 1152)</text>\n",
       "</g>\n",
       "<!-- 139693979372512&#45;&gt;139693979372456 -->\n",
       "<g class=\"edge\" id=\"edge1\"><title>139693979372512-&gt;139693979372456</title>\n",
       "<path d=\"M255,-166.366C255,-158.152 255,-148.658 255,-139.725\" fill=\"none\" stroke=\"black\"/>\n",
       "<polygon fill=\"black\" points=\"258.5,-139.607 255,-129.607 251.5,-139.607 258.5,-139.607\" stroke=\"black\"/>\n",
       "</g>\n",
       "<!-- 139693979373072 -->\n",
       "<g class=\"node\" id=\"node3\"><title>139693979373072</title>\n",
       "<polygon fill=\"none\" points=\"0,-0.5 0,-46.5 246,-46.5 246,-0.5 0,-0.5\" stroke=\"black\"/>\n",
       "<text font-family=\"Times,serif\" font-size=\"14.00\" text-anchor=\"middle\" x=\"51\" y=\"-19.8\">dense_1: Dense</text>\n",
       "<polyline fill=\"none\" points=\"102,-0.5 102,-46.5 \" stroke=\"black\"/>\n",
       "<text font-family=\"Times,serif\" font-size=\"14.00\" text-anchor=\"middle\" x=\"129.5\" y=\"-31.3\">input:</text>\n",
       "<polyline fill=\"none\" points=\"102,-23.5 157,-23.5 \" stroke=\"black\"/>\n",
       "<text font-family=\"Times,serif\" font-size=\"14.00\" text-anchor=\"middle\" x=\"129.5\" y=\"-8.3\">output:</text>\n",
       "<polyline fill=\"none\" points=\"157,-0.5 157,-46.5 \" stroke=\"black\"/>\n",
       "<text font-family=\"Times,serif\" font-size=\"14.00\" text-anchor=\"middle\" x=\"201.5\" y=\"-31.3\">(None, 1152)</text>\n",
       "<polyline fill=\"none\" points=\"157,-23.5 246,-23.5 \" stroke=\"black\"/>\n",
       "<text font-family=\"Times,serif\" font-size=\"14.00\" text-anchor=\"middle\" x=\"201.5\" y=\"-8.3\">(None, 1)</text>\n",
       "</g>\n",
       "<!-- 139693979372456&#45;&gt;139693979373072 -->\n",
       "<g class=\"edge\" id=\"edge2\"><title>139693979372456-&gt;139693979373072</title>\n",
       "<path d=\"M218.93,-83.3664C203.07,-73.6337 184.283,-62.1057 167.558,-51.8424\" fill=\"none\" stroke=\"black\"/>\n",
       "<polygon fill=\"black\" points=\"169.38,-48.8539 159.026,-46.6068 165.719,-54.8202 169.38,-48.8539\" stroke=\"black\"/>\n",
       "</g>\n",
       "<!-- 139693927313136 -->\n",
       "<g class=\"node\" id=\"node4\"><title>139693927313136</title>\n",
       "<polygon fill=\"none\" points=\"264,-0.5 264,-46.5 510,-46.5 510,-0.5 264,-0.5\" stroke=\"black\"/>\n",
       "<text font-family=\"Times,serif\" font-size=\"14.00\" text-anchor=\"middle\" x=\"315\" y=\"-19.8\">dense_2: Dense</text>\n",
       "<polyline fill=\"none\" points=\"366,-0.5 366,-46.5 \" stroke=\"black\"/>\n",
       "<text font-family=\"Times,serif\" font-size=\"14.00\" text-anchor=\"middle\" x=\"393.5\" y=\"-31.3\">input:</text>\n",
       "<polyline fill=\"none\" points=\"366,-23.5 421,-23.5 \" stroke=\"black\"/>\n",
       "<text font-family=\"Times,serif\" font-size=\"14.00\" text-anchor=\"middle\" x=\"393.5\" y=\"-8.3\">output:</text>\n",
       "<polyline fill=\"none\" points=\"421,-0.5 421,-46.5 \" stroke=\"black\"/>\n",
       "<text font-family=\"Times,serif\" font-size=\"14.00\" text-anchor=\"middle\" x=\"465.5\" y=\"-31.3\">(None, 1152)</text>\n",
       "<polyline fill=\"none\" points=\"421,-23.5 510,-23.5 \" stroke=\"black\"/>\n",
       "<text font-family=\"Times,serif\" font-size=\"14.00\" text-anchor=\"middle\" x=\"465.5\" y=\"-8.3\">(None, 10)</text>\n",
       "</g>\n",
       "<!-- 139693979372456&#45;&gt;139693927313136 -->\n",
       "<g class=\"edge\" id=\"edge3\"><title>139693979372456-&gt;139693927313136</title>\n",
       "<path d=\"M291.07,-83.3664C306.93,-73.6337 325.717,-62.1057 342.442,-51.8424\" fill=\"none\" stroke=\"black\"/>\n",
       "<polygon fill=\"black\" points=\"344.281,-54.8202 350.974,-46.6068 340.62,-48.8539 344.281,-54.8202\" stroke=\"black\"/>\n",
       "</g>\n",
       "</g>\n",
       "</svg>"
      ],
      "text/plain": [
       "<IPython.core.display.SVG object>"
      ]
     },
     "execution_count": 7,
     "metadata": {},
     "output_type": "execute_result"
    }
   ],
   "source": [
    "discriminator = build_discriminator()\n",
    "discriminator.compile(\n",
    "    loss = [\n",
    "        'binary_crossentropy',\n",
    "        'sparse_categorical_crossentropy'\n",
    "    ],\n",
    "    optimizer = Adam(0.0002, 0.5),\n",
    "    metrics = ['accuracy']\n",
    ")\n",
    "discriminator.summary()\n",
    "SVG(model_to_dot(discriminator, show_shapes = True, show_layer_names = True).create(prog = 'dot', format = 'svg'))"
   ]
  },
  {
   "cell_type": "code",
   "execution_count": 8,
   "metadata": {},
   "outputs": [
    {
     "name": "stdout",
     "output_type": "stream",
     "text": [
      "__________________________________________________________________________________________________\n",
      "Layer (type)                    Output Shape         Param #     Connected to                     \n",
      "==================================================================================================\n",
      "input_3 (InputLayer)            (None, 1)            0                                            \n",
      "__________________________________________________________________________________________________\n",
      "embedding_1 (Embedding)         (None, 1, 100)       1000        input_3[0][0]                    \n",
      "__________________________________________________________________________________________________\n",
      "input_2 (InputLayer)            (None, 100)          0                                            \n",
      "__________________________________________________________________________________________________\n",
      "flatten_2 (Flatten)             (None, 100)          0           embedding_1[0][0]                \n",
      "__________________________________________________________________________________________________\n",
      "multiply_1 (Multiply)           (None, 100)          0           input_2[0][0]                    \n",
      "                                                                 flatten_2[0][0]                  \n",
      "__________________________________________________________________________________________________\n",
      "Generator_Sequential (Sequentia (None, 28, 28, 1)    856705      multiply_1[0][0]                 \n",
      "==================================================================================================\n",
      "Total params: 857,705\n",
      "Trainable params: 857,065\n",
      "Non-trainable params: 640\n",
      "__________________________________________________________________________________________________\n"
     ]
    },
    {
     "data": {
      "image/svg+xml": [
       "<svg height=\"387pt\" viewBox=\"0.00 0.00 577.00 387.00\" width=\"577pt\" xmlns=\"http://www.w3.org/2000/svg\" xmlns:xlink=\"http://www.w3.org/1999/xlink\">\n",
       "<g class=\"graph\" id=\"graph0\" transform=\"scale(1 1) rotate(0) translate(4 383)\">\n",
       "<title>G</title>\n",
       "<polygon fill=\"white\" points=\"-4,4 -4,-383 573,-383 573,4 -4,4\" stroke=\"none\"/>\n",
       "<!-- 139693546055776 -->\n",
       "<g class=\"node\" id=\"node1\"><title>139693546055776</title>\n",
       "<polygon fill=\"none\" points=\"32,-332.5 32,-378.5 281,-378.5 281,-332.5 32,-332.5\" stroke=\"black\"/>\n",
       "<text font-family=\"Times,serif\" font-size=\"14.00\" text-anchor=\"middle\" x=\"94.5\" y=\"-351.8\">input_3: InputLayer</text>\n",
       "<polyline fill=\"none\" points=\"157,-332.5 157,-378.5 \" stroke=\"black\"/>\n",
       "<text font-family=\"Times,serif\" font-size=\"14.00\" text-anchor=\"middle\" x=\"184.5\" y=\"-363.3\">input:</text>\n",
       "<polyline fill=\"none\" points=\"157,-355.5 212,-355.5 \" stroke=\"black\"/>\n",
       "<text font-family=\"Times,serif\" font-size=\"14.00\" text-anchor=\"middle\" x=\"184.5\" y=\"-340.3\">output:</text>\n",
       "<polyline fill=\"none\" points=\"212,-332.5 212,-378.5 \" stroke=\"black\"/>\n",
       "<text font-family=\"Times,serif\" font-size=\"14.00\" text-anchor=\"middle\" x=\"246.5\" y=\"-363.3\">(None, 1)</text>\n",
       "<polyline fill=\"none\" points=\"212,-355.5 281,-355.5 \" stroke=\"black\"/>\n",
       "<text font-family=\"Times,serif\" font-size=\"14.00\" text-anchor=\"middle\" x=\"246.5\" y=\"-340.3\">(None, 1)</text>\n",
       "</g>\n",
       "<!-- 139693147803096 -->\n",
       "<g class=\"node\" id=\"node2\"><title>139693147803096</title>\n",
       "<polygon fill=\"none\" points=\"0,-249.5 0,-295.5 313,-295.5 313,-249.5 0,-249.5\" stroke=\"black\"/>\n",
       "<text font-family=\"Times,serif\" font-size=\"14.00\" text-anchor=\"middle\" x=\"80.5\" y=\"-268.8\">embedding_1: Embedding</text>\n",
       "<polyline fill=\"none\" points=\"161,-249.5 161,-295.5 \" stroke=\"black\"/>\n",
       "<text font-family=\"Times,serif\" font-size=\"14.00\" text-anchor=\"middle\" x=\"188.5\" y=\"-280.3\">input:</text>\n",
       "<polyline fill=\"none\" points=\"161,-272.5 216,-272.5 \" stroke=\"black\"/>\n",
       "<text font-family=\"Times,serif\" font-size=\"14.00\" text-anchor=\"middle\" x=\"188.5\" y=\"-257.3\">output:</text>\n",
       "<polyline fill=\"none\" points=\"216,-249.5 216,-295.5 \" stroke=\"black\"/>\n",
       "<text font-family=\"Times,serif\" font-size=\"14.00\" text-anchor=\"middle\" x=\"264.5\" y=\"-280.3\">(None, 1)</text>\n",
       "<polyline fill=\"none\" points=\"216,-272.5 313,-272.5 \" stroke=\"black\"/>\n",
       "<text font-family=\"Times,serif\" font-size=\"14.00\" text-anchor=\"middle\" x=\"264.5\" y=\"-257.3\">(None, 1, 100)</text>\n",
       "</g>\n",
       "<!-- 139693546055776&#45;&gt;139693147803096 -->\n",
       "<g class=\"edge\" id=\"edge1\"><title>139693546055776-&gt;139693147803096</title>\n",
       "<path d=\"M156.5,-332.366C156.5,-324.152 156.5,-314.658 156.5,-305.725\" fill=\"none\" stroke=\"black\"/>\n",
       "<polygon fill=\"black\" points=\"160,-305.607 156.5,-295.607 153,-305.607 160,-305.607\" stroke=\"black\"/>\n",
       "</g>\n",
       "<!-- 139693147801920 -->\n",
       "<g class=\"node\" id=\"node4\"><title>139693147801920</title>\n",
       "<polygon fill=\"none\" points=\"25.5,-166.5 25.5,-212.5 287.5,-212.5 287.5,-166.5 25.5,-166.5\" stroke=\"black\"/>\n",
       "<text font-family=\"Times,serif\" font-size=\"14.00\" text-anchor=\"middle\" x=\"80.5\" y=\"-185.8\">flatten_2: Flatten</text>\n",
       "<polyline fill=\"none\" points=\"135.5,-166.5 135.5,-212.5 \" stroke=\"black\"/>\n",
       "<text font-family=\"Times,serif\" font-size=\"14.00\" text-anchor=\"middle\" x=\"163\" y=\"-197.3\">input:</text>\n",
       "<polyline fill=\"none\" points=\"135.5,-189.5 190.5,-189.5 \" stroke=\"black\"/>\n",
       "<text font-family=\"Times,serif\" font-size=\"14.00\" text-anchor=\"middle\" x=\"163\" y=\"-174.3\">output:</text>\n",
       "<polyline fill=\"none\" points=\"190.5,-166.5 190.5,-212.5 \" stroke=\"black\"/>\n",
       "<text font-family=\"Times,serif\" font-size=\"14.00\" text-anchor=\"middle\" x=\"239\" y=\"-197.3\">(None, 1, 100)</text>\n",
       "<polyline fill=\"none\" points=\"190.5,-189.5 287.5,-189.5 \" stroke=\"black\"/>\n",
       "<text font-family=\"Times,serif\" font-size=\"14.00\" text-anchor=\"middle\" x=\"239\" y=\"-174.3\">(None, 100)</text>\n",
       "</g>\n",
       "<!-- 139693147803096&#45;&gt;139693147801920 -->\n",
       "<g class=\"edge\" id=\"edge2\"><title>139693147803096-&gt;139693147801920</title>\n",
       "<path d=\"M156.5,-249.366C156.5,-241.152 156.5,-231.658 156.5,-222.725\" fill=\"none\" stroke=\"black\"/>\n",
       "<polygon fill=\"black\" points=\"160,-222.607 156.5,-212.607 153,-222.607 160,-222.607\" stroke=\"black\"/>\n",
       "</g>\n",
       "<!-- 139693546057008 -->\n",
       "<g class=\"node\" id=\"node3\"><title>139693546057008</title>\n",
       "<polygon fill=\"none\" points=\"306,-166.5 306,-212.5 569,-212.5 569,-166.5 306,-166.5\" stroke=\"black\"/>\n",
       "<text font-family=\"Times,serif\" font-size=\"14.00\" text-anchor=\"middle\" x=\"368.5\" y=\"-185.8\">input_2: InputLayer</text>\n",
       "<polyline fill=\"none\" points=\"431,-166.5 431,-212.5 \" stroke=\"black\"/>\n",
       "<text font-family=\"Times,serif\" font-size=\"14.00\" text-anchor=\"middle\" x=\"458.5\" y=\"-197.3\">input:</text>\n",
       "<polyline fill=\"none\" points=\"431,-189.5 486,-189.5 \" stroke=\"black\"/>\n",
       "<text font-family=\"Times,serif\" font-size=\"14.00\" text-anchor=\"middle\" x=\"458.5\" y=\"-174.3\">output:</text>\n",
       "<polyline fill=\"none\" points=\"486,-166.5 486,-212.5 \" stroke=\"black\"/>\n",
       "<text font-family=\"Times,serif\" font-size=\"14.00\" text-anchor=\"middle\" x=\"527.5\" y=\"-197.3\">(None, 100)</text>\n",
       "<polyline fill=\"none\" points=\"486,-189.5 569,-189.5 \" stroke=\"black\"/>\n",
       "<text font-family=\"Times,serif\" font-size=\"14.00\" text-anchor=\"middle\" x=\"527.5\" y=\"-174.3\">(None, 100)</text>\n",
       "</g>\n",
       "<!-- 139693147801640 -->\n",
       "<g class=\"node\" id=\"node5\"><title>139693147801640</title>\n",
       "<polygon fill=\"none\" points=\"120.5,-83.5 120.5,-129.5 472.5,-129.5 472.5,-83.5 120.5,-83.5\" stroke=\"black\"/>\n",
       "<text font-family=\"Times,serif\" font-size=\"14.00\" text-anchor=\"middle\" x=\"186.5\" y=\"-102.8\">multiply_1: Multiply</text>\n",
       "<polyline fill=\"none\" points=\"252.5,-83.5 252.5,-129.5 \" stroke=\"black\"/>\n",
       "<text font-family=\"Times,serif\" font-size=\"14.00\" text-anchor=\"middle\" x=\"280\" y=\"-114.3\">input:</text>\n",
       "<polyline fill=\"none\" points=\"252.5,-106.5 307.5,-106.5 \" stroke=\"black\"/>\n",
       "<text font-family=\"Times,serif\" font-size=\"14.00\" text-anchor=\"middle\" x=\"280\" y=\"-91.3\">output:</text>\n",
       "<polyline fill=\"none\" points=\"307.5,-83.5 307.5,-129.5 \" stroke=\"black\"/>\n",
       "<text font-family=\"Times,serif\" font-size=\"14.00\" text-anchor=\"middle\" x=\"390\" y=\"-114.3\">[(None, 100), (None, 100)]</text>\n",
       "<polyline fill=\"none\" points=\"307.5,-106.5 472.5,-106.5 \" stroke=\"black\"/>\n",
       "<text font-family=\"Times,serif\" font-size=\"14.00\" text-anchor=\"middle\" x=\"390\" y=\"-91.3\">(None, 100)</text>\n",
       "</g>\n",
       "<!-- 139693546057008&#45;&gt;139693147801640 -->\n",
       "<g class=\"edge\" id=\"edge3\"><title>139693546057008-&gt;139693147801640</title>\n",
       "<path d=\"M398.971,-166.366C382.029,-156.634 361.962,-145.106 344.096,-134.842\" fill=\"none\" stroke=\"black\"/>\n",
       "<polygon fill=\"black\" points=\"345.397,-131.553 334.982,-129.607 341.91,-137.623 345.397,-131.553\" stroke=\"black\"/>\n",
       "</g>\n",
       "<!-- 139693147801920&#45;&gt;139693147801640 -->\n",
       "<g class=\"edge\" id=\"edge4\"><title>139693147801920-&gt;139693147801640</title>\n",
       "<path d=\"M194.756,-166.366C211.578,-156.634 231.503,-145.106 249.242,-134.842\" fill=\"none\" stroke=\"black\"/>\n",
       "<polygon fill=\"black\" points=\"251.388,-137.644 258.291,-129.607 247.882,-131.585 251.388,-137.644\" stroke=\"black\"/>\n",
       "</g>\n",
       "<!-- 139693546056840 -->\n",
       "<g class=\"node\" id=\"node6\"><title>139693546056840</title>\n",
       "<polygon fill=\"none\" points=\"114,-0.5 114,-46.5 479,-46.5 479,-0.5 114,-0.5\" stroke=\"black\"/>\n",
       "<text font-family=\"Times,serif\" font-size=\"14.00\" text-anchor=\"middle\" x=\"213.5\" y=\"-19.8\">Generator_Sequential: Sequential</text>\n",
       "<polyline fill=\"none\" points=\"313,-0.5 313,-46.5 \" stroke=\"black\"/>\n",
       "<text font-family=\"Times,serif\" font-size=\"14.00\" text-anchor=\"middle\" x=\"340.5\" y=\"-31.3\">input:</text>\n",
       "<polyline fill=\"none\" points=\"313,-23.5 368,-23.5 \" stroke=\"black\"/>\n",
       "<text font-family=\"Times,serif\" font-size=\"14.00\" text-anchor=\"middle\" x=\"340.5\" y=\"-8.3\">output:</text>\n",
       "<polyline fill=\"none\" points=\"368,-0.5 368,-46.5 \" stroke=\"black\"/>\n",
       "<text font-family=\"Times,serif\" font-size=\"14.00\" text-anchor=\"middle\" x=\"423.5\" y=\"-31.3\">(None, 100)</text>\n",
       "<polyline fill=\"none\" points=\"368,-23.5 479,-23.5 \" stroke=\"black\"/>\n",
       "<text font-family=\"Times,serif\" font-size=\"14.00\" text-anchor=\"middle\" x=\"423.5\" y=\"-8.3\">(None, 28, 28, 1)</text>\n",
       "</g>\n",
       "<!-- 139693147801640&#45;&gt;139693546056840 -->\n",
       "<g class=\"edge\" id=\"edge5\"><title>139693147801640-&gt;139693546056840</title>\n",
       "<path d=\"M296.5,-83.3664C296.5,-75.1516 296.5,-65.6579 296.5,-56.7252\" fill=\"none\" stroke=\"black\"/>\n",
       "<polygon fill=\"black\" points=\"300,-56.6068 296.5,-46.6068 293,-56.6069 300,-56.6068\" stroke=\"black\"/>\n",
       "</g>\n",
       "</g>\n",
       "</svg>"
      ],
      "text/plain": [
       "<IPython.core.display.SVG object>"
      ]
     },
     "execution_count": 8,
     "metadata": {},
     "output_type": "execute_result"
    }
   ],
   "source": [
    "generator = build_generator()\n",
    "generator.summary()\n",
    "SVG(model_to_dot(generator, show_shapes = True, show_layer_names = True).create(prog = 'dot', format = 'svg'))"
   ]
  },
  {
   "cell_type": "code",
   "execution_count": 9,
   "metadata": {},
   "outputs": [
    {
     "name": "stdout",
     "output_type": "stream",
     "text": [
      "__________________________________________________________________________________________________\n",
      "Layer (type)                    Output Shape         Param #     Connected to                     \n",
      "==================================================================================================\n",
      "GAN_Input_Noise (InputLayer)    (None, 100)          0                                            \n",
      "__________________________________________________________________________________________________\n",
      "GAN_Input_Label (InputLayer)    (None, 1)            0                                            \n",
      "__________________________________________________________________________________________________\n",
      "Generator (Model)               (None, 28, 28, 1)    857705      GAN_Input_Noise[0][0]            \n",
      "                                                                 GAN_Input_Label[0][0]            \n",
      "__________________________________________________________________________________________________\n",
      "Discriminator (Model)           [(None, 1), (None, 1 110219      Generator[1][0]                  \n",
      "==================================================================================================\n",
      "Total params: 967,924\n",
      "Trainable params: 857,065\n",
      "Non-trainable params: 110,859\n",
      "__________________________________________________________________________________________________\n"
     ]
    },
    {
     "data": {
      "image/svg+xml": [
       "<svg height=\"221pt\" viewBox=\"0.00 0.00 661.50 221.00\" width=\"662pt\" xmlns=\"http://www.w3.org/2000/svg\" xmlns:xlink=\"http://www.w3.org/1999/xlink\">\n",
       "<g class=\"graph\" id=\"graph0\" transform=\"scale(1 1) rotate(0) translate(4 217)\">\n",
       "<title>G</title>\n",
       "<polygon fill=\"white\" points=\"-4,4 -4,-217 657.5,-217 657.5,4 -4,4\" stroke=\"none\"/>\n",
       "<!-- 139693144185992 -->\n",
       "<g class=\"node\" id=\"node1\"><title>139693144185992</title>\n",
       "<polygon fill=\"none\" points=\"0,-166.5 0,-212.5 325,-212.5 325,-166.5 0,-166.5\" stroke=\"black\"/>\n",
       "<text font-family=\"Times,serif\" font-size=\"14.00\" text-anchor=\"middle\" x=\"93.5\" y=\"-185.8\">GAN_Input_Noise: InputLayer</text>\n",
       "<polyline fill=\"none\" points=\"187,-166.5 187,-212.5 \" stroke=\"black\"/>\n",
       "<text font-family=\"Times,serif\" font-size=\"14.00\" text-anchor=\"middle\" x=\"214.5\" y=\"-197.3\">input:</text>\n",
       "<polyline fill=\"none\" points=\"187,-189.5 242,-189.5 \" stroke=\"black\"/>\n",
       "<text font-family=\"Times,serif\" font-size=\"14.00\" text-anchor=\"middle\" x=\"214.5\" y=\"-174.3\">output:</text>\n",
       "<polyline fill=\"none\" points=\"242,-166.5 242,-212.5 \" stroke=\"black\"/>\n",
       "<text font-family=\"Times,serif\" font-size=\"14.00\" text-anchor=\"middle\" x=\"283.5\" y=\"-197.3\">(None, 100)</text>\n",
       "<polyline fill=\"none\" points=\"242,-189.5 325,-189.5 \" stroke=\"black\"/>\n",
       "<text font-family=\"Times,serif\" font-size=\"14.00\" text-anchor=\"middle\" x=\"283.5\" y=\"-174.3\">(None, 100)</text>\n",
       "</g>\n",
       "<!-- 139693147803264 -->\n",
       "<g class=\"node\" id=\"node3\"><title>139693147803264</title>\n",
       "<polygon fill=\"none\" points=\"170,-83.5 170,-129.5 491,-129.5 491,-83.5 170,-83.5\" stroke=\"black\"/>\n",
       "<text font-family=\"Times,serif\" font-size=\"14.00\" text-anchor=\"middle\" x=\"227\" y=\"-102.8\">Generator: Model</text>\n",
       "<polyline fill=\"none\" points=\"284,-83.5 284,-129.5 \" stroke=\"black\"/>\n",
       "<text font-family=\"Times,serif\" font-size=\"14.00\" text-anchor=\"middle\" x=\"311.5\" y=\"-114.3\">input:</text>\n",
       "<polyline fill=\"none\" points=\"284,-106.5 339,-106.5 \" stroke=\"black\"/>\n",
       "<text font-family=\"Times,serif\" font-size=\"14.00\" text-anchor=\"middle\" x=\"311.5\" y=\"-91.3\">output:</text>\n",
       "<polyline fill=\"none\" points=\"339,-83.5 339,-129.5 \" stroke=\"black\"/>\n",
       "<text font-family=\"Times,serif\" font-size=\"14.00\" text-anchor=\"middle\" x=\"415\" y=\"-114.3\">[(None, 100), (None, 1)]</text>\n",
       "<polyline fill=\"none\" points=\"339,-106.5 491,-106.5 \" stroke=\"black\"/>\n",
       "<text font-family=\"Times,serif\" font-size=\"14.00\" text-anchor=\"middle\" x=\"415\" y=\"-91.3\">(None, 28, 28, 1)</text>\n",
       "</g>\n",
       "<!-- 139693144185992&#45;&gt;139693147803264 -->\n",
       "<g class=\"edge\" id=\"edge1\"><title>139693144185992-&gt;139693147803264</title>\n",
       "<path d=\"M208.407,-166.366C229.149,-156.366 253.822,-144.47 275.541,-133.998\" fill=\"none\" stroke=\"black\"/>\n",
       "<polygon fill=\"black\" points=\"277.161,-137.103 284.649,-129.607 274.121,-130.797 277.161,-137.103\" stroke=\"black\"/>\n",
       "</g>\n",
       "<!-- 139693144185880 -->\n",
       "<g class=\"node\" id=\"node2\"><title>139693144185880</title>\n",
       "<polygon fill=\"none\" points=\"343.5,-166.5 343.5,-212.5 653.5,-212.5 653.5,-166.5 343.5,-166.5\" stroke=\"black\"/>\n",
       "<text font-family=\"Times,serif\" font-size=\"14.00\" text-anchor=\"middle\" x=\"436.5\" y=\"-185.8\">GAN_Input_Label: InputLayer</text>\n",
       "<polyline fill=\"none\" points=\"529.5,-166.5 529.5,-212.5 \" stroke=\"black\"/>\n",
       "<text font-family=\"Times,serif\" font-size=\"14.00\" text-anchor=\"middle\" x=\"557\" y=\"-197.3\">input:</text>\n",
       "<polyline fill=\"none\" points=\"529.5,-189.5 584.5,-189.5 \" stroke=\"black\"/>\n",
       "<text font-family=\"Times,serif\" font-size=\"14.00\" text-anchor=\"middle\" x=\"557\" y=\"-174.3\">output:</text>\n",
       "<polyline fill=\"none\" points=\"584.5,-166.5 584.5,-212.5 \" stroke=\"black\"/>\n",
       "<text font-family=\"Times,serif\" font-size=\"14.00\" text-anchor=\"middle\" x=\"619\" y=\"-197.3\">(None, 1)</text>\n",
       "<polyline fill=\"none\" points=\"584.5,-189.5 653.5,-189.5 \" stroke=\"black\"/>\n",
       "<text font-family=\"Times,serif\" font-size=\"14.00\" text-anchor=\"middle\" x=\"619\" y=\"-174.3\">(None, 1)</text>\n",
       "</g>\n",
       "<!-- 139693144185880&#45;&gt;139693147803264 -->\n",
       "<g class=\"edge\" id=\"edge2\"><title>139693144185880-&gt;139693147803264</title>\n",
       "<path d=\"M452.593,-166.366C431.851,-156.366 407.178,-144.47 385.459,-133.998\" fill=\"none\" stroke=\"black\"/>\n",
       "<polygon fill=\"black\" points=\"386.879,-130.797 376.351,-129.607 383.839,-137.103 386.879,-130.797\" stroke=\"black\"/>\n",
       "</g>\n",
       "<!-- 139693547730480 -->\n",
       "<g class=\"node\" id=\"node4\"><title>139693547730480</title>\n",
       "<polygon fill=\"none\" points=\"162.5,-0.5 162.5,-46.5 498.5,-46.5 498.5,-0.5 162.5,-0.5\" stroke=\"black\"/>\n",
       "<text font-family=\"Times,serif\" font-size=\"14.00\" text-anchor=\"middle\" x=\"230.5\" y=\"-19.8\">Discriminator: Model</text>\n",
       "<polyline fill=\"none\" points=\"298.5,-0.5 298.5,-46.5 \" stroke=\"black\"/>\n",
       "<text font-family=\"Times,serif\" font-size=\"14.00\" text-anchor=\"middle\" x=\"326\" y=\"-31.3\">input:</text>\n",
       "<polyline fill=\"none\" points=\"298.5,-23.5 353.5,-23.5 \" stroke=\"black\"/>\n",
       "<text font-family=\"Times,serif\" font-size=\"14.00\" text-anchor=\"middle\" x=\"326\" y=\"-8.3\">output:</text>\n",
       "<polyline fill=\"none\" points=\"353.5,-0.5 353.5,-46.5 \" stroke=\"black\"/>\n",
       "<text font-family=\"Times,serif\" font-size=\"14.00\" text-anchor=\"middle\" x=\"426\" y=\"-31.3\">(None, 28, 28, 1)</text>\n",
       "<polyline fill=\"none\" points=\"353.5,-23.5 498.5,-23.5 \" stroke=\"black\"/>\n",
       "<text font-family=\"Times,serif\" font-size=\"14.00\" text-anchor=\"middle\" x=\"426\" y=\"-8.3\">[(None, 1), (None, 10)]</text>\n",
       "</g>\n",
       "<!-- 139693147803264&#45;&gt;139693547730480 -->\n",
       "<g class=\"edge\" id=\"edge3\"><title>139693147803264-&gt;139693547730480</title>\n",
       "<path d=\"M330.5,-83.3664C330.5,-75.1516 330.5,-65.6579 330.5,-56.7252\" fill=\"none\" stroke=\"black\"/>\n",
       "<polygon fill=\"black\" points=\"334,-56.6068 330.5,-46.6068 327,-56.6069 334,-56.6068\" stroke=\"black\"/>\n",
       "</g>\n",
       "</g>\n",
       "</svg>"
      ],
      "text/plain": [
       "<IPython.core.display.SVG object>"
      ]
     },
     "execution_count": 9,
     "metadata": {},
     "output_type": "execute_result"
    }
   ],
   "source": [
    "noise = Input(shape = (LATENT_DIMENSION, ), name = 'GAN_Input_Noise')\n",
    "label = Input(shape = (1, ), name = 'GAN_Input_Label')\n",
    "image = generator([noise, label])\n",
    "discriminator.trainable = False\n",
    "valid, target_label = discriminator(image)\n",
    "gan = Model([noise, label], [valid, target_label])\n",
    "gan.compile(\n",
    "    loss = [\n",
    "        'binary_crossentropy',\n",
    "        'sparse_categorical_crossentropy'\n",
    "    ],\n",
    "    optimizer = Adam(0.0002, 0.5)\n",
    ")\n",
    "gan.summary()\n",
    "SVG(model_to_dot(gan, show_shapes = True, show_layer_names = True).create(prog = 'dot', format = 'svg'))"
   ]
  },
  {
   "cell_type": "code",
   "execution_count": 10,
   "metadata": {},
   "outputs": [],
   "source": [
    "def plot_images(generator, nrows = 2, ncols = 5, figsize = (16, 6)):\n",
    "    fig, axes = plt.subplots(nrows = nrows, ncols = ncols, figsize = figsize)\n",
    "    plt.setp(axes.flat, xticks = [], yticks = [])\n",
    "    noise = np.random.normal(0, 1, (nrows * ncols, LATENT_DIMENSION))\n",
    "    labels = np.array(range(NUM_CLASSES)).reshape(-1, 1)\n",
    "    generated_images = generator.predict([noise, labels])\n",
    "    for i, ax in enumerate(axes.flat):\n",
    "        ax.imshow(generated_images[i].reshape(IMAGE_HEIGHT, IMAGE_WIDTH), cmap = 'gray')\n",
    "        ax.set_xlabel(str(labels[i]))\n",
    "    plt.show()"
   ]
  },
  {
   "cell_type": "code",
   "execution_count": 11,
   "metadata": {},
   "outputs": [
    {
     "data": {
      "application/vnd.jupyter.widget-view+json": {
       "model_id": "5e0e15d5d2ed4668bfed989d3a94e3d3",
       "version_major": 2,
       "version_minor": 0
      },
      "text/plain": [
       "HBox(children=(IntProgress(value=0, max=30000), HTML(value='')))"
      ]
     },
     "metadata": {},
     "output_type": "display_data"
    },
    {
     "name": "stdout",
     "output_type": "stream",
     "text": [
      "WARNING:tensorflow:From /opt/conda/lib/python3.6/site-packages/tensorflow/python/ops/math_ops.py:3066: to_int32 (from tensorflow.python.ops.math_ops) is deprecated and will be removed in a future version.\n",
      "Instructions for updating:\n",
      "Use tf.cast instead.\n"
     ]
    },
    {
     "data": {
      "image/png": "[encoded data removed]",
      "text/plain": [
       "<Figure size 1152x288 with 5 Axes>"
      ]
     },
     "metadata": {},
     "output_type": "display_data"
    },
    {
     "data": {
      "image/png": "[encoded data removed]",
      "text/plain": [
       "<Figure size 1152x288 with 5 Axes>"
      ]
     },
     "metadata": {},
     "output_type": "display_data"
    },
    {
     "data": {
      "image/png": "[encoded data removed]",
      "text/plain": [
       "<Figure size 1152x288 with 5 Axes>"
      ]
     },
     "metadata": {},
     "output_type": "display_data"
    },
    {
     "data": {
      "image/png": "[encoded data removed]",
      "text/plain": [
       "<Figure size 1152x288 with 5 Axes>"
      ]
     },
     "metadata": {},
     "output_type": "display_data"
    }
   ],
   "source": [
    "valid = -np.ones(shape = (BATCH_SIZE, 1))\n",
    "fake = np.ones(shape = (BATCH_SIZE, 1))\n",
    "generator_loss_history, discriminator_loss_history = [], []\n",
    "\n",
    "for epoch in tqdm_notebook(range(1, EPOCHS + 1)):\n",
    "    \n",
    "    # Select a random batch\n",
    "    index = np.random.randint(0, x_train.shape[0], BATCH_SIZE)\n",
    "    batch_images = x_train[index]\n",
    "    batch_labels = y_train[index]\n",
    "    \n",
    "    # Adversarial Noise\n",
    "    noise = np.random.normal(0, 1, (BATCH_SIZE, LATENT_DIMENSION))\n",
    "    \n",
    "    # Random Labels\n",
    "    random_labels = np.random.randint(0, NUM_CLASSES, (BATCH_SIZE, 1))\n",
    "    \n",
    "    # Generating Fake Images\n",
    "    generated_images = generator.predict([noise, random_labels])\n",
    "    \n",
    "    # Training the Disccriminator\n",
    "    discriminator_loss_real = discriminator.train_on_batch(batch_images, [valid, batch_labels])\n",
    "    discriminator_loss_fake = discriminator.train_on_batch(generated_images, [fake, random_labels])\n",
    "    discriminator_loss = 0.5 * np.add(discriminator_loss_real, discriminator_loss_fake)\n",
    "    \n",
    "    # Training the Generator\n",
    "    generator_loss = gan.train_on_batch([noise, random_labels], [valid, random_labels])\n",
    "    \n",
    "    if epoch % 100 == 0:\n",
    "        generator_loss_history.append(generator_loss)\n",
    "        discriminator_loss_history.append(discriminator_loss)\n",
    "    \n",
    "    if epoch % 2000 == 0:\n",
    "        plot_images(generator, nrows = 1, ncols = 5, figsize = (16, 4))"
   ]
  },
  {
   "cell_type": "code",
   "execution_count": 12,
   "metadata": {},
   "outputs": [
    {
     "data": {
      "image/png": "[encoded data removed]",
      "text/plain": [
       "<Figure size 1152x432 with 10 Axes>"
      ]
     },
     "metadata": {},
     "output_type": "display_data"
    }
   ],
   "source": [
    "plot_images(generator)"
   ]
  },
  {
   "cell_type": "code",
   "execution_count": 13,
   "metadata": {},
   "outputs": [],
   "source": [
    "generator.save('generator.h5')"
   ]
  }
 ],
 "metadata": {
  "kernelspec": {
   "display_name": "Python 3",
   "language": "python",
   "name": "python3"
  },
  "language_info": {
   "codemirror_mode": {
    "name": "ipython",
    "version": 3
   },
   "file_extension": ".py",
   "mimetype": "text/x-python",
   "name": "python",
   "nbconvert_exporter": "python",
   "pygments_lexer": "ipython3",
   "version": "3.6.4"
  }
 },
 "nbformat": 4,
 "nbformat_minor": 1
}
